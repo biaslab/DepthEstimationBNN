{
 "cells": [
  {
   "cell_type": "code",
   "execution_count": 1,
   "metadata": {},
   "outputs": [],
   "source": [
    "using UnboundedBNN, Optimisers, ProgressMeter, Zygote, LinearAlgebra, JLD2, Random, Plots, Statistics\n",
    "using UnboundedBNN: TransformedDistribution"
   ]
  },
  {
   "cell_type": "code",
   "execution_count": 2,
   "metadata": {},
   "outputs": [
    {
     "data": {
      "text/plain": [
       "to_one_hot (generic function with 1 method)"
      ]
     },
     "metadata": {},
     "output_type": "display_data"
    }
   ],
   "source": [
    "to_one_hot(p) = vcat((p .== -1)', (p .== 1)')"
   ]
  },
  {
   "cell_type": "code",
   "execution_count": 3,
   "metadata": {},
   "outputs": [
    {
     "data": {
      "text/plain": [
       "binarycrossentropy (generic function with 1 method)"
      ]
     },
     "metadata": {},
     "output_type": "display_data"
    }
   ],
   "source": [
    "function binarycrossentropy(p::BitMatrix, q::Matrix)\n",
    "    return -sum(q .* p)\n",
    "end"
   ]
  },
  {
   "cell_type": "code",
   "execution_count": 4,
   "metadata": {},
   "outputs": [
    {
     "data": {
      "text/plain": [
       "predict (generic function with 1 method)"
      ]
     },
     "metadata": {},
     "output_type": "display_data"
    }
   ],
   "source": [
    "function predict(model, x; nr_evals=100)\n",
    "    posterior = UnboundedBNN.transform(model.posterior)\n",
    "    lower, upper = UnboundedBNN.support(posterior)\n",
    "    post_pdf = UnboundedBNN.pmf.(Ref(posterior), lower:upper)\n",
    "\n",
    "    predictions = zeros(Float64, 2, size(x, 2))\n",
    "    for k in 1:nr_evals\n",
    "        output = model(x)\n",
    "        predictions += mapreduce(l -> UnboundedBNN.softmax(output[l]; dims=1) .* post_pdf[l], +, 1:length(post_pdf))\n",
    "    end\n",
    "    return [getindex.(argmax(predictions, dims=1), 1)...] .* 2 .- 3\n",
    "end"
   ]
  },
  {
   "cell_type": "code",
   "execution_count": 5,
   "metadata": {},
   "outputs": [
    {
     "data": {
      "text/plain": [
       "accuracy (generic function with 1 method)"
      ]
     },
     "metadata": {},
     "output_type": "display_data"
    }
   ],
   "source": [
    "accuracy(y::Vector, yhat::Vector) = mean(y .== yhat)"
   ]
  },
  {
   "cell_type": "code",
   "execution_count": 6,
   "metadata": {},
   "outputs": [
    {
     "data": {
      "text/plain": [
       "loss (generic function with 1 method)"
      ]
     },
     "metadata": {},
     "output_type": "display_data"
    }
   ],
   "source": [
    "function loss(y::BitMatrix, x::Matrix{T}, model; batch_prop = 1.0f0) where {T}\n",
    "    \n",
    "    posterior = UnboundedBNN.transform(model.posterior)\n",
    "    lower, upper = UnboundedBNN.support(posterior)\n",
    "    post_pdf = UnboundedBNN.pmf.(Ref(posterior), lower:upper)\n",
    "\n",
    "    output = model(x)\n",
    "    logln = mapreduce(l -> post_pdf[l] .* output[l], +, 1:length(post_pdf)) :: Matrix{T}\n",
    "\n",
    "    kl_poisson = KL_loss(posterior, model.prior)\n",
    "    kl_input = KL_loss(model.input_layer)\n",
    "    kl_hidden = mapreduce(l -> post_pdf[l-lower+1] * sum(li -> KL_loss(model.hidden_layers[li]), 1:l+1), +, lower:upper)\n",
    "    kl_output = mapreduce(l -> post_pdf[l-lower+1] * KL_loss(model.output_layers[l+1]), +, lower:upper)\n",
    "    kl_total = kl_poisson #+ kl_input + kl_output + kl_hidden\n",
    "    return binarycrossentropy(y, logln) + batch_prop * kl_total\n",
    "\n",
    "end"
   ]
  },
  {
   "cell_type": "code",
   "execution_count": 7,
   "metadata": {},
   "outputs": [
    {
     "data": {
      "text/plain": [
       "create_model (generic function with 1 method)"
      ]
     },
     "metadata": {},
     "output_type": "display_data"
    }
   ],
   "source": [
    "function create_model(dims::Pair, dimmid; max_layers=30)\n",
    "\n",
    "    expansion_layer = Chain(LinearBBB(dims[1] => dimmid), LeakyReLU())\n",
    "    intermediate_layer = ntuple(_ -> Chain(LinearBBB(dimmid => dimmid), LeakyReLU()), max_layers)\n",
    "    output_layer = ntuple(_ -> Chain(LinearBBB(dimmid => dims[2]), Softmax(dims[2])), max_layers)\n",
    "\n",
    "    prior = discretize(H() * Normal(0.0f0 , 1.15f0))\n",
    "    posterior = TransformedDistribution(\n",
    "        SafeNormal([0.0f0], [invsoftplus(1.8f0)]), \n",
    "        (\n",
    "            x -> H() * x,\n",
    "            x -> truncate_to_quantiles(x, 0.025f0, 0.975f0),\n",
    "            x -> expand_truncation_to_ints(x),\n",
    "            x -> discretize(x)\n",
    "        )\n",
    "    )\n",
    "\n",
    "    return Unbounded(\n",
    "        expansion_layer,\n",
    "        intermediate_layer,\n",
    "        output_layer, \n",
    "        prior, \n",
    "        posterior\n",
    "    )\n",
    "end"
   ]
  },
  {
   "cell_type": "code",
   "execution_count": 8,
   "metadata": {},
   "outputs": [
    {
     "data": {
      "text/plain": [
       "create_optimiser (generic function with 1 method)"
      ]
     },
     "metadata": {},
     "output_type": "display_data"
    }
   ],
   "source": [
    "function create_optimiser(model; lr=0.005f0)\n",
    "    opt = Optimisers.setup(Adam(), model)\n",
    "    Optimisers.adjust!(opt, lr)\n",
    "    Optimisers.adjust!(opt.posterior, lr/10)\n",
    "    return opt\n",
    "end"
   ]
  },
  {
   "cell_type": "code",
   "execution_count": 9,
   "metadata": {},
   "outputs": [
    {
     "data": {
      "text/plain": [
       "run_experiment (generic function with 1 method)"
      ]
     },
     "metadata": {},
     "output_type": "display_data"
    }
   ],
   "source": [
    "function run_experiment(folder, ω, dimmid, runs; epochs=20000, batch_size=256, lr=0.005f0, max_layers=30, N=1024, rng=Random.default_rng())\n",
    "\n",
    "    for run in 1:runs\n",
    "\n",
    "        # set seed\n",
    "        Random.seed!(run)\n",
    "        \n",
    "        # loop over dimensions\n",
    "        for dim in dimmid\n",
    "\n",
    "            mkpath(folder * \"/run_$(run)/dim_$(dim)\")\n",
    "\n",
    "            p = ProgressMeter.Progress(length(ω))\n",
    "\n",
    "            # loop over difficulties\n",
    "            Threads.@threads for ωi in ω\n",
    "\n",
    "                # generate data\n",
    "                x_train, y_train = generate_spiral(N, ωi)\n",
    "                x_val,   y_val   = generate_spiral(N, ωi)\n",
    "                x_test,  y_test  = generate_spiral(N, ωi)\n",
    "                y_train_onehot = to_one_hot(y_train)\n",
    "                y_val_onehot = to_one_hot(y_val)\n",
    "                y_test_onehot = to_one_hot(y_test)\n",
    "\n",
    "                # create model and optimiser\n",
    "                model = create_model(2 => 2, dim, max_layers=max_layers)\n",
    "                opt = create_optimiser(model, lr=lr)\n",
    "                \n",
    "                loss_train = zeros(epochs)\n",
    "                loss_val   = zeros(epochs)\n",
    "                loss_test  = zeros(epochs)\n",
    "                best_val = Inf\n",
    "                best_model = nothing\n",
    "\n",
    "                for e in 1:epochs\n",
    "                    for n in Iterators.partition(randperm(rng, N), batch_size)\n",
    "                        _, gs = Zygote.withgradient(m -> loss(y_train_onehot[:,n], x_train[:,n], m; batch_prop = length(n)/N), model)\n",
    "                        opt, model = Optimisers.update!(opt, model, gs[1])\n",
    "                    end\n",
    "                    loss_train[e] = loss(y_train_onehot, x_train, model)\n",
    "                    loss_val[e] = loss(y_val_onehot, x_val, model)\n",
    "                    loss_test[e] = loss(y_test_onehot, x_test, model)\n",
    "\n",
    "                    if loss_val[e] < best_val\n",
    "                        best_val = loss_val[e]\n",
    "                        best_model = model\n",
    "                    end\n",
    "\n",
    "                end\n",
    "\n",
    "                #save results\n",
    "                jldopen(folder * \"/run_$(run)/dim_$(dim)/dim_$(dim)_omega_$(ωi).jld2\", \"w\") do file\n",
    "                    file[\"data/x_train\"] = x_train\n",
    "                    file[\"data/y_train\"] = y_train\n",
    "                    file[\"data/x_val\"] = x_val\n",
    "                    file[\"data/y_val\"] = y_val\n",
    "                    file[\"data/x_test\"] = x_test\n",
    "                    file[\"data/y_test\"] = y_test\n",
    "                    file[\"model\"] = best_model\n",
    "                    file[\"results/loss_train\"] = loss_train\n",
    "                    file[\"results/loss_val\"] = loss_val\n",
    "                    file[\"results/loss_test\"] = loss_test\n",
    "                    file[\"results/predictions_train\"] = predict(best_model, x_train)\n",
    "                    file[\"results/predictions_val\"] = predict(best_model, x_val)\n",
    "                    file[\"results/predictions_test\"] = predict(best_model, x_test)\n",
    "                    file[\"results/accuracy_train\"] = accuracy(y_train, predict(best_model, x_train))\n",
    "                    file[\"results/accuracy_val\"] = accuracy(y_val, predict(best_model, x_val))\n",
    "                    file[\"results/accuracy_test\"] = accuracy(y_test, predict(best_model, x_test))\n",
    "                    file[\"results/posterior\"] = UnboundedBNN.transform(best_model.posterior)\n",
    "                    file[\"results/prior\"] = best_model.prior\n",
    "                end\n",
    "\n",
    "                ProgressMeter.next!(p)\n",
    "\n",
    "            end\n",
    "\n",
    "        end\n",
    "\n",
    "    end\n",
    "\n",
    "end"
   ]
  },
  {
   "cell_type": "code",
   "execution_count": 10,
   "metadata": {},
   "outputs": [
    {
     "name": "stderr",
     "output_type": "stream",
     "text": [
      "\u001b[32mProgress: 100%|█████████████████████████████████████████| Time: 0:45:24\u001b[39m\u001b[K\n",
      "\u001b[32mProgress: 100%|█████████████████████████████████████████| Time: 0:38:00\u001b[39m\u001b[K\n",
      "\u001b[32mProgress: 100%|█████████████████████████████████████████| Time: 0:35:25\u001b[39m\u001b[K\n",
      "\u001b[32mProgress: 100%|█████████████████████████████████████████| Time: 0:34:59\u001b[39m\u001b[K\n",
      "\u001b[32mProgress: 100%|█████████████████████████████████████████| Time: 0:39:51\u001b[39m\u001b[K\n"
     ]
    }
   ],
   "source": [
    "run_experiment(\"data/spiral/normal\", 0:30, 32, 5)"
   ]
  }
 ],
 "metadata": {
  "kernelspec": {
   "display_name": "Julia 1.10.4",
   "language": "julia",
   "name": "julia-1.10"
  },
  "language_info": {
   "file_extension": ".jl",
   "mimetype": "application/julia",
   "name": "julia",
   "version": "1.10.4"
  }
 },
 "nbformat": 4,
 "nbformat_minor": 2
}
