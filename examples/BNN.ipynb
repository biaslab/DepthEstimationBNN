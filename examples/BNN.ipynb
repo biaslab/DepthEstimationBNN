{
 "cells": [
  {
   "cell_type": "code",
   "execution_count": 1,
   "metadata": {},
   "outputs": [],
   "source": [
    "using BenchmarkTools, StructArrays, LinearAlgebra, Profile, PProf, Zygote, Zygote.ChainRulesCore"
   ]
  },
  {
   "cell_type": "code",
   "execution_count": 2,
   "metadata": {},
   "outputs": [],
   "source": [
    "struct Variable{D}\n",
    "    d :: D    \n",
    "end\n",
    "mean(v::Variable) = mean(v.d)\n",
    "var(v::Variable) = var(v.d)\n",
    "mean_var(x) = mean(x), var(x)\n",
    "struct Normal{T}\n",
    "    m :: T\n",
    "    v :: T\n",
    "end\n",
    "mean(n::Normal) = n.m\n",
    "var(n::Normal) = n.v\n",
    "Base.zero(::Variable{<:Normal{T}}) where { T } = Variable(Normal(zero(T), zero(T)))\n",
    "Base.zero(::Type{Variable{T}}) where { T } = Variable(zero(T))\n",
    "Base.zero(::Type{Normal{T}}) where { T } = Normal(zero(T), zero(T))\n",
    "function Base.:*(n1::Variable{<:Normal}, n2::Variable{<:Normal})\n",
    "    m1, v1 = mean_var(n1)\n",
    "    m2, v2 = mean_var(n2)\n",
    "\n",
    "    return Variable(Normal(m1 * m2, v1 * v2 + v2 * m1 * m1 + v1 * m2 * m2))\n",
    "end\n",
    "function Base.:+(n1::Variable{<:Normal}, n2::Variable{<:Normal})\n",
    "    m1, v1 = mean_var(n1)\n",
    "    m2, v2 = mean_var(n2)\n",
    "\n",
    "    return Variable(Normal(m1 + m2, v1 + v2))\n",
    "end\n",
    "LinearAlgebra.dot(n1::Variable{<:Normal}, n2::Variable{<:Normal}) = n1 * n2\n",
    ";"
   ]
  },
  {
   "cell_type": "code",
   "execution_count": 3,
   "metadata": {},
   "outputs": [],
   "source": [
    "dimin = 1000\n",
    "dimout = 500\n",
    "T = Float32\n",
    "\n",
    "W = Variable.(Normal.(randn(T,dimout,dimin), abs.(randn(T,dimout,dimin))))\n",
    "b = Variable.(Normal.(randn(T,dimout), abs.(randn(T,dimout))))\n",
    "x = Variable.(Normal.(randn(T,dimin), abs.(randn(T,dimin))))\n",
    "\n",
    "W_sa = StructArray(W; unwrap = t -> t <: Normal)\n",
    "b_sa = StructArray(b; unwrap = t -> t <: Normal)\n",
    "x_sa = StructArray(x; unwrap = t -> t <: Normal)\n",
    ";"
   ]
  },
  {
   "cell_type": "code",
   "execution_count": 4,
   "metadata": {},
   "outputs": [],
   "source": [
    "function Base.:*(A::Matrix{T1}, x::Vector{T2}) where { T1 <: Variable, T2 <: Variable }\n",
    "    y = zeros(T1, size(A, 1))\n",
    "    for i = 1:size(A, 1), k = 1:size(A, 2)\n",
    "        y[i] += A[i,k] * x[k]\n",
    "    end\n",
    "    return y\n",
    "end"
   ]
  },
  {
   "cell_type": "code",
   "execution_count": 5,
   "metadata": {},
   "outputs": [],
   "source": [
    "# function ChainRulesCore.rrule(::typeof(*), A::Matrix{T1}, x::Vector{T2}) where { T1 <: Variable, T2 <: Variable }\n",
    "#     A * x, Δ -> (NoTangent(), NoTangent(), NoTangent())\n",
    "# end"
   ]
  },
  {
   "cell_type": "code",
   "execution_count": 6,
   "metadata": {},
   "outputs": [
    {
     "data": {
      "text/plain": [
       "BenchmarkTools.Trial: 10000 samples with 1 evaluation.\n",
       " Range \u001b[90m(\u001b[39m\u001b[36m\u001b[1mmin\u001b[22m\u001b[39m … \u001b[35mmax\u001b[39m\u001b[90m):  \u001b[39m\u001b[36m\u001b[1m363.000 μs\u001b[22m\u001b[39m … \u001b[35m635.042 μs\u001b[39m  \u001b[90m┊\u001b[39m GC \u001b[90m(\u001b[39mmin … max\u001b[90m): \u001b[39m0.00% … 0.00%\n",
       " Time  \u001b[90m(\u001b[39m\u001b[34m\u001b[1mmedian\u001b[22m\u001b[39m\u001b[90m):     \u001b[39m\u001b[34m\u001b[1m370.979 μs               \u001b[22m\u001b[39m\u001b[90m┊\u001b[39m GC \u001b[90m(\u001b[39mmedian\u001b[90m):    \u001b[39m0.00%\n",
       " Time  \u001b[90m(\u001b[39m\u001b[32m\u001b[1mmean\u001b[22m\u001b[39m ± \u001b[32mσ\u001b[39m\u001b[90m):   \u001b[39m\u001b[32m\u001b[1m381.257 μs\u001b[22m\u001b[39m ± \u001b[32m 20.072 μs\u001b[39m  \u001b[90m┊\u001b[39m GC \u001b[90m(\u001b[39mmean ± σ\u001b[90m):  \u001b[39m0.00% ± 0.00%\n",
       "\n",
       "  \u001b[39m▆\u001b[39m█\u001b[39m▆\u001b[39m▆\u001b[39m▅\u001b[39m▃\u001b[34m▃\u001b[39m\u001b[39m▃\u001b[39m▂\u001b[39m▂\u001b[39m▂\u001b[39m▂\u001b[39m▂\u001b[39m▂\u001b[39m▃\u001b[32m▂\u001b[39m\u001b[39m▂\u001b[39m▂\u001b[39m▁\u001b[39m▁\u001b[39m▂\u001b[39m▃\u001b[39m▅\u001b[39m▅\u001b[39m▄\u001b[39m▄\u001b[39m▃\u001b[39m▃\u001b[39m▂\u001b[39m▁\u001b[39m▁\u001b[39m▁\u001b[39m▁\u001b[39m▁\u001b[39m \u001b[39m \u001b[39m \u001b[39m \u001b[39m \u001b[39m \u001b[39m \u001b[39m \u001b[39m \u001b[39m \u001b[39m▁\u001b[39m▁\u001b[39m▁\u001b[39m▂\u001b[39m▂\u001b[39m▁\u001b[39m▁\u001b[39m▁\u001b[39m \u001b[39m \u001b[39m \u001b[39m \u001b[39m \u001b[39m \u001b[39m \u001b[39m \u001b[39m \u001b[39m \u001b[39m▂\n",
       "  \u001b[39m█\u001b[39m█\u001b[39m█\u001b[39m█\u001b[39m█\u001b[39m█\u001b[34m█\u001b[39m\u001b[39m█\u001b[39m█\u001b[39m█\u001b[39m█\u001b[39m█\u001b[39m█\u001b[39m█\u001b[39m█\u001b[32m█\u001b[39m\u001b[39m█\u001b[39m█\u001b[39m█\u001b[39m█\u001b[39m█\u001b[39m█\u001b[39m█\u001b[39m█\u001b[39m█\u001b[39m█\u001b[39m█\u001b[39m█\u001b[39m█\u001b[39m█\u001b[39m█\u001b[39m█\u001b[39m█\u001b[39m█\u001b[39m█\u001b[39m█\u001b[39m█\u001b[39m█\u001b[39m█\u001b[39m█\u001b[39m█\u001b[39m█\u001b[39m█\u001b[39m█\u001b[39m█\u001b[39m█\u001b[39m█\u001b[39m█\u001b[39m█\u001b[39m█\u001b[39m█\u001b[39m█\u001b[39m█\u001b[39m▇\u001b[39m▇\u001b[39m▇\u001b[39m▇\u001b[39m▇\u001b[39m▆\u001b[39m▆\u001b[39m▇\u001b[39m \u001b[39m█\n",
       "  363 μs\u001b[90m        \u001b[39m\u001b[90mHistogram: \u001b[39m\u001b[90m\u001b[1mlog(\u001b[22m\u001b[39m\u001b[90mfrequency\u001b[39m\u001b[90m\u001b[1m)\u001b[22m\u001b[39m\u001b[90m by time\u001b[39m        439 μs \u001b[0m\u001b[1m<\u001b[22m\n",
       "\n",
       " Memory estimate\u001b[90m: \u001b[39m\u001b[33m8.25 KiB\u001b[39m, allocs estimate\u001b[90m: \u001b[39m\u001b[33m2\u001b[39m."
      ]
     },
     "metadata": {},
     "output_type": "display_data"
    }
   ],
   "source": [
    "@benchmark $W * $x + $b"
   ]
  },
  {
   "cell_type": "code",
   "execution_count": 7,
   "metadata": {},
   "outputs": [
    {
     "data": {
      "text/plain": [
       "BenchmarkTools.Trial: 10000 samples with 1 evaluation.\n",
       " Range \u001b[90m(\u001b[39m\u001b[36m\u001b[1mmin\u001b[22m\u001b[39m … \u001b[35mmax\u001b[39m\u001b[90m):  \u001b[39m\u001b[36m\u001b[1m82.417 μs\u001b[22m\u001b[39m … \u001b[35m118.792 μs\u001b[39m  \u001b[90m┊\u001b[39m GC \u001b[90m(\u001b[39mmin … max\u001b[90m): \u001b[39m0.00% … 0.00%\n",
       " Time  \u001b[90m(\u001b[39m\u001b[34m\u001b[1mmedian\u001b[22m\u001b[39m\u001b[90m):     \u001b[39m\u001b[34m\u001b[1m89.708 μs               \u001b[22m\u001b[39m\u001b[90m┊\u001b[39m GC \u001b[90m(\u001b[39mmedian\u001b[90m):    \u001b[39m0.00%\n",
       " Time  \u001b[90m(\u001b[39m\u001b[32m\u001b[1mmean\u001b[22m\u001b[39m ± \u001b[32mσ\u001b[39m\u001b[90m):   \u001b[39m\u001b[32m\u001b[1m90.497 μs\u001b[22m\u001b[39m ± \u001b[32m  3.086 μs\u001b[39m  \u001b[90m┊\u001b[39m GC \u001b[90m(\u001b[39mmean ± σ\u001b[90m):  \u001b[39m0.00% ± 0.00%\n",
       "\n",
       "  \u001b[39m \u001b[39m▁\u001b[39m▁\u001b[39m \u001b[39m \u001b[39m \u001b[39m \u001b[39m \u001b[39m \u001b[39m \u001b[39m \u001b[39m \u001b[39m \u001b[39m \u001b[39m \u001b[39m \u001b[39m▆\u001b[39m█\u001b[39m▇\u001b[39m█\u001b[34m▇\u001b[39m\u001b[39m▇\u001b[32m▆\u001b[39m\u001b[39m▄\u001b[39m▃\u001b[39m▄\u001b[39m▃\u001b[39m▄\u001b[39m▃\u001b[39m▂\u001b[39m▂\u001b[39m▂\u001b[39m▁\u001b[39m▁\u001b[39m▁\u001b[39m \u001b[39m \u001b[39m \u001b[39m▁\u001b[39m▁\u001b[39m▁\u001b[39m \u001b[39m \u001b[39m \u001b[39m \u001b[39m \u001b[39m \u001b[39m \u001b[39m \u001b[39m \u001b[39m \u001b[39m \u001b[39m \u001b[39m \u001b[39m \u001b[39m \u001b[39m \u001b[39m \u001b[39m \u001b[39m \u001b[39m \u001b[39m▃\n",
       "  \u001b[39m▇\u001b[39m█\u001b[39m█\u001b[39m▇\u001b[39m▅\u001b[39m▁\u001b[39m▁\u001b[39m▃\u001b[39m▃\u001b[39m▅\u001b[39m▃\u001b[39m▃\u001b[39m▃\u001b[39m▄\u001b[39m▁\u001b[39m▇\u001b[39m█\u001b[39m█\u001b[39m█\u001b[39m█\u001b[34m█\u001b[39m\u001b[39m█\u001b[32m█\u001b[39m\u001b[39m█\u001b[39m█\u001b[39m█\u001b[39m█\u001b[39m█\u001b[39m█\u001b[39m█\u001b[39m█\u001b[39m█\u001b[39m█\u001b[39m█\u001b[39m█\u001b[39m█\u001b[39m█\u001b[39m█\u001b[39m█\u001b[39m█\u001b[39m█\u001b[39m█\u001b[39m█\u001b[39m█\u001b[39m█\u001b[39m▇\u001b[39m▇\u001b[39m▆\u001b[39m▇\u001b[39m▇\u001b[39m█\u001b[39m▇\u001b[39m█\u001b[39m▇\u001b[39m▇\u001b[39m▇\u001b[39m▆\u001b[39m▇\u001b[39m▇\u001b[39m▇\u001b[39m \u001b[39m█\n",
       "  82.4 μs\u001b[90m       \u001b[39m\u001b[90mHistogram: \u001b[39m\u001b[90m\u001b[1mlog(\u001b[22m\u001b[39m\u001b[90mfrequency\u001b[39m\u001b[90m\u001b[1m)\u001b[22m\u001b[39m\u001b[90m by time\u001b[39m       105 μs \u001b[0m\u001b[1m<\u001b[22m\n",
       "\n",
       " Memory estimate\u001b[90m: \u001b[39m\u001b[33m8.73 KiB\u001b[39m, allocs estimate\u001b[90m: \u001b[39m\u001b[33m16\u001b[39m."
      ]
     },
     "metadata": {},
     "output_type": "display_data"
    }
   ],
   "source": [
    "@benchmark $W_sa * $x_sa + $b_sa"
   ]
  },
  {
   "cell_type": "code",
   "execution_count": 8,
   "metadata": {},
   "outputs": [],
   "source": [
    "abstract type Layer end\n",
    "struct Dense{T1, T2} <: Layer\n",
    "    W :: T1\n",
    "    b :: T2\n",
    "end\n",
    "(l::Dense)(x) = l.W * x + l.b"
   ]
  },
  {
   "cell_type": "code",
   "execution_count": 9,
   "metadata": {},
   "outputs": [],
   "source": [
    "layer = Dense(W, b)\n",
    "layer_sa = Dense(W_sa, b_sa);"
   ]
  },
  {
   "cell_type": "code",
   "execution_count": 10,
   "metadata": {},
   "outputs": [
    {
     "data": {
      "text/plain": [
       "BenchmarkTools.Trial: 10000 samples with 1 evaluation.\n",
       " Range \u001b[90m(\u001b[39m\u001b[36m\u001b[1mmin\u001b[22m\u001b[39m … \u001b[35mmax\u001b[39m\u001b[90m):  \u001b[39m\u001b[36m\u001b[1m363.458 μs\u001b[22m\u001b[39m … \u001b[35m649.375 μs\u001b[39m  \u001b[90m┊\u001b[39m GC \u001b[90m(\u001b[39mmin … max\u001b[90m): \u001b[39m0.00% … 0.00%\n",
       " Time  \u001b[90m(\u001b[39m\u001b[34m\u001b[1mmedian\u001b[22m\u001b[39m\u001b[90m):     \u001b[39m\u001b[34m\u001b[1m393.667 μs               \u001b[22m\u001b[39m\u001b[90m┊\u001b[39m GC \u001b[90m(\u001b[39mmedian\u001b[90m):    \u001b[39m0.00%\n",
       " Time  \u001b[90m(\u001b[39m\u001b[32m\u001b[1mmean\u001b[22m\u001b[39m ± \u001b[32mσ\u001b[39m\u001b[90m):   \u001b[39m\u001b[32m\u001b[1m399.091 μs\u001b[22m\u001b[39m ± \u001b[32m 22.707 μs\u001b[39m  \u001b[90m┊\u001b[39m GC \u001b[90m(\u001b[39mmean ± σ\u001b[90m):  \u001b[39m0.00% ± 0.00%\n",
       "\n",
       "  \u001b[39m▆\u001b[39m▅\u001b[39m▄\u001b[39m▄\u001b[39m▂\u001b[39m▁\u001b[39m▂\u001b[39m▁\u001b[39m▂\u001b[39m▂\u001b[39m▂\u001b[39m▂\u001b[39m▂\u001b[39m▁\u001b[39m▁\u001b[39m▁\u001b[39m▁\u001b[39m▁\u001b[39m▅\u001b[39m█\u001b[39m▅\u001b[34m▆\u001b[39m\u001b[39m▄\u001b[39m▃\u001b[39m▃\u001b[32m▂\u001b[39m\u001b[39m▂\u001b[39m▂\u001b[39m▁\u001b[39m▁\u001b[39m▁\u001b[39m \u001b[39m \u001b[39m \u001b[39m \u001b[39m▁\u001b[39m▂\u001b[39m▃\u001b[39m▄\u001b[39m▅\u001b[39m▆\u001b[39m▆\u001b[39m▅\u001b[39m▄\u001b[39m▃\u001b[39m▂\u001b[39m▂\u001b[39m▂\u001b[39m▁\u001b[39m▁\u001b[39m▁\u001b[39m \u001b[39m \u001b[39m \u001b[39m \u001b[39m \u001b[39m \u001b[39m \u001b[39m \u001b[39m \u001b[39m \u001b[39m \u001b[39m▂\n",
       "  \u001b[39m█\u001b[39m█\u001b[39m█\u001b[39m█\u001b[39m█\u001b[39m█\u001b[39m█\u001b[39m█\u001b[39m█\u001b[39m█\u001b[39m█\u001b[39m█\u001b[39m█\u001b[39m█\u001b[39m█\u001b[39m█\u001b[39m█\u001b[39m█\u001b[39m█\u001b[39m█\u001b[39m█\u001b[34m█\u001b[39m\u001b[39m█\u001b[39m█\u001b[39m█\u001b[32m█\u001b[39m\u001b[39m█\u001b[39m█\u001b[39m█\u001b[39m█\u001b[39m█\u001b[39m█\u001b[39m█\u001b[39m█\u001b[39m█\u001b[39m█\u001b[39m█\u001b[39m█\u001b[39m█\u001b[39m█\u001b[39m█\u001b[39m█\u001b[39m█\u001b[39m█\u001b[39m█\u001b[39m█\u001b[39m█\u001b[39m█\u001b[39m█\u001b[39m█\u001b[39m█\u001b[39m█\u001b[39m█\u001b[39m█\u001b[39m▇\u001b[39m▇\u001b[39m▆\u001b[39m▇\u001b[39m▅\u001b[39m▆\u001b[39m▆\u001b[39m \u001b[39m█\n",
       "  363 μs\u001b[90m        \u001b[39m\u001b[90mHistogram: \u001b[39m\u001b[90m\u001b[1mlog(\u001b[22m\u001b[39m\u001b[90mfrequency\u001b[39m\u001b[90m\u001b[1m)\u001b[22m\u001b[39m\u001b[90m by time\u001b[39m        451 μs \u001b[0m\u001b[1m<\u001b[22m\n",
       "\n",
       " Memory estimate\u001b[90m: \u001b[39m\u001b[33m8.25 KiB\u001b[39m, allocs estimate\u001b[90m: \u001b[39m\u001b[33m2\u001b[39m."
      ]
     },
     "metadata": {},
     "output_type": "display_data"
    }
   ],
   "source": [
    "@benchmark layer($x)"
   ]
  },
  {
   "cell_type": "code",
   "execution_count": 11,
   "metadata": {},
   "outputs": [
    {
     "data": {
      "text/plain": [
       "BenchmarkTools.Trial: 10000 samples with 1 evaluation.\n",
       " Range \u001b[90m(\u001b[39m\u001b[36m\u001b[1mmin\u001b[22m\u001b[39m … \u001b[35mmax\u001b[39m\u001b[90m):  \u001b[39m\u001b[36m\u001b[1m82.750 μs\u001b[22m\u001b[39m … \u001b[35m118.416 μs\u001b[39m  \u001b[90m┊\u001b[39m GC \u001b[90m(\u001b[39mmin … max\u001b[90m): \u001b[39m0.00% … 0.00%\n",
       " Time  \u001b[90m(\u001b[39m\u001b[34m\u001b[1mmedian\u001b[22m\u001b[39m\u001b[90m):     \u001b[39m\u001b[34m\u001b[1m89.792 μs               \u001b[22m\u001b[39m\u001b[90m┊\u001b[39m GC \u001b[90m(\u001b[39mmedian\u001b[90m):    \u001b[39m0.00%\n",
       " Time  \u001b[90m(\u001b[39m\u001b[32m\u001b[1mmean\u001b[22m\u001b[39m ± \u001b[32mσ\u001b[39m\u001b[90m):   \u001b[39m\u001b[32m\u001b[1m90.912 μs\u001b[22m\u001b[39m ± \u001b[32m  3.536 μs\u001b[39m  \u001b[90m┊\u001b[39m GC \u001b[90m(\u001b[39mmean ± σ\u001b[90m):  \u001b[39m0.00% ± 0.00%\n",
       "\n",
       "  \u001b[39m \u001b[39m \u001b[39m \u001b[39m \u001b[39m \u001b[39m \u001b[39m \u001b[39m \u001b[39m \u001b[39m \u001b[39m \u001b[39m \u001b[39m \u001b[39m \u001b[39m▆\u001b[39m█\u001b[39m█\u001b[39m█\u001b[34m▇\u001b[39m\u001b[39m▇\u001b[32m▅\u001b[39m\u001b[39m▄\u001b[39m▄\u001b[39m▃\u001b[39m▄\u001b[39m▃\u001b[39m▂\u001b[39m▂\u001b[39m▁\u001b[39m▂\u001b[39m▁\u001b[39m▁\u001b[39m \u001b[39m \u001b[39m▁\u001b[39m▁\u001b[39m▁\u001b[39m▁\u001b[39m \u001b[39m \u001b[39m \u001b[39m \u001b[39m \u001b[39m \u001b[39m \u001b[39m \u001b[39m▁\u001b[39m▁\u001b[39m \u001b[39m \u001b[39m \u001b[39m▁\u001b[39m \u001b[39m \u001b[39m \u001b[39m \u001b[39m \u001b[39m \u001b[39m \u001b[39m \u001b[39m \u001b[39m▃\n",
       "  \u001b[39m▇\u001b[39m▅\u001b[39m▃\u001b[39m▁\u001b[39m▁\u001b[39m▁\u001b[39m▃\u001b[39m▁\u001b[39m▃\u001b[39m▁\u001b[39m▁\u001b[39m▁\u001b[39m▁\u001b[39m▃\u001b[39m█\u001b[39m█\u001b[39m█\u001b[39m█\u001b[34m█\u001b[39m\u001b[39m█\u001b[32m█\u001b[39m\u001b[39m█\u001b[39m█\u001b[39m█\u001b[39m█\u001b[39m█\u001b[39m█\u001b[39m█\u001b[39m█\u001b[39m█\u001b[39m█\u001b[39m█\u001b[39m█\u001b[39m█\u001b[39m█\u001b[39m█\u001b[39m█\u001b[39m█\u001b[39m█\u001b[39m█\u001b[39m▇\u001b[39m▇\u001b[39m█\u001b[39m█\u001b[39m█\u001b[39m█\u001b[39m█\u001b[39m█\u001b[39m█\u001b[39m▆\u001b[39m█\u001b[39m█\u001b[39m█\u001b[39m▇\u001b[39m█\u001b[39m▇\u001b[39m▇\u001b[39m▇\u001b[39m▆\u001b[39m▇\u001b[39m \u001b[39m█\n",
       "  82.8 μs\u001b[90m       \u001b[39m\u001b[90mHistogram: \u001b[39m\u001b[90m\u001b[1mlog(\u001b[22m\u001b[39m\u001b[90mfrequency\u001b[39m\u001b[90m\u001b[1m)\u001b[22m\u001b[39m\u001b[90m by time\u001b[39m       107 μs \u001b[0m\u001b[1m<\u001b[22m\n",
       "\n",
       " Memory estimate\u001b[90m: \u001b[39m\u001b[33m8.78 KiB\u001b[39m, allocs estimate\u001b[90m: \u001b[39m\u001b[33m18\u001b[39m."
      ]
     },
     "metadata": {},
     "output_type": "display_data"
    }
   ],
   "source": [
    "@benchmark layer_sa($x_sa)"
   ]
  },
  {
   "cell_type": "code",
   "execution_count": 12,
   "metadata": {},
   "outputs": [
    {
     "ename": "ErrorException",
     "evalue": "Mutating arrays is not supported -- called setindex!(Vector{Variable{Normal{Float32}}}, ...)\nThis error occurs when you ask Zygote to differentiate operations that change\nthe elements of arrays in place (e.g. setting values with x .= ...)\n\nPossible fixes:\n- avoid mutating operations (preferred)\n- or read the documentation and solutions for this error\n  https://fluxml.ai/Zygote.jl/latest/limitations\n",
     "output_type": "error",
     "traceback": [
      "Mutating arrays is not supported -- called setindex!(Vector{Variable{Normal{Float32}}}, ...)\n",
      "This error occurs when you ask Zygote to differentiate operations that change\n",
      "the elements of arrays in place (e.g. setting values with x .= ...)\n",
      "\n",
      "Possible fixes:\n",
      "- avoid mutating operations (preferred)\n",
      "- or read the documentation and solutions for this error\n",
      "  https://fluxml.ai/Zygote.jl/latest/limitations\n",
      "\n",
      "\n",
      "Stacktrace:\n",
      "  [1] error(s::String)\n",
      "    @ Base ./error.jl:35\n",
      "  [2] _throw_mutation_error(f::Function, args::Vector{Variable{Normal{Float32}}})\n",
      "    @ Zygote ~/.julia/packages/Zygote/nsBv0/src/lib/array.jl:70\n",
      "  [3] (::Zygote.var\"#539#540\"{Vector{Variable{Normal{Float32}}}})(::Nothing)\n",
      "    @ Zygote ~/.julia/packages/Zygote/nsBv0/src/lib/array.jl:82\n",
      "  [4] (::Zygote.var\"#2623#back#541\"{Zygote.var\"#539#540\"{Vector{Variable{Normal{Float32}}}}})(Δ::Nothing)\n",
      "    @ Zygote ~/.julia/packages/ZygoteRules/M4xmc/src/adjoint.jl:72\n",
      "  [5] *\n",
      "    @ ~/Documents/PhD/UnboundedBNN/jl_notebook_cell_df34fa98e69747e1a8f8a730347b8e2f_X50sZmlsZQ==.jl:4 [inlined]\n",
      "  [6] (::Zygote.Pullback{Tuple{typeof(*), Matrix{Variable{Normal{Float32}}}, Vector{Variable{Normal{Float32}}}}, Any})(Δ::Vector{@NamedTuple{d::@NamedTuple{m::Float32, v::Nothing}}})\n",
      "    @ Zygote ~/.julia/packages/Zygote/nsBv0/src/compiler/interface2.jl:0\n",
      "  [7] Dense\n",
      "    @ ~/Documents/PhD/UnboundedBNN/jl_notebook_cell_df34fa98e69747e1a8f8a730347b8e2f_X36sZmlsZQ==.jl:6 [inlined]\n",
      "  [8] (::Zygote.Pullback{Tuple{Dense{Matrix{Variable{Normal{Float32}}}, Vector{Variable{Normal{Float32}}}}, Vector{Variable{Normal{Float32}}}}, Tuple{Zygote.var\"#2180#back#303\"{Zygote.var\"#back#302\"{:W, Zygote.Context{false}, Dense{Matrix{Variable{Normal{Float32}}}, Vector{Variable{Normal{Float32}}}}, Matrix{Variable{Normal{Float32}}}}}, Zygote.var\"#2180#back#303\"{Zygote.var\"#back#302\"{:b, Zygote.Context{false}, Dense{Matrix{Variable{Normal{Float32}}}, Vector{Variable{Normal{Float32}}}}, Vector{Variable{Normal{Float32}}}}}, Zygote.Pullback{Tuple{typeof(*), Matrix{Variable{Normal{Float32}}}, Vector{Variable{Normal{Float32}}}}, Any}, Zygote.var\"#3583#back#1084\"{Zygote.var\"#1080#1083\"}}})(Δ::Vector{@NamedTuple{d::@NamedTuple{m::Float32, v::Nothing}}})\n",
      "    @ Zygote ~/.julia/packages/Zygote/nsBv0/src/compiler/interface2.jl:0\n",
      "  [9] #17\n",
      "    @ ~/Documents/PhD/UnboundedBNN/jl_notebook_cell_df34fa98e69747e1a8f8a730347b8e2f_X45sZmlsZQ==.jl:1 [inlined]\n",
      " [10] (::Zygote.Pullback{Tuple{var\"#17#18\", Dense{Matrix{Variable{Normal{Float32}}}, Vector{Variable{Normal{Float32}}}}}, Tuple{Zygote.Pullback{Tuple{typeof(Base.Broadcast.materialize), Vector{Float32}}, Tuple{}}, Zygote.var\"#2989#back#768\"{Zygote.var\"#762#766\"{Vector{Float32}}}, Zygote.Pullback{Tuple{typeof(Base.Broadcast.broadcasted), typeof(mean), Vector{Variable{Normal{Float32}}}}, Tuple{Zygote.var\"#2013#back#204\"{typeof(identity)}, Zygote.var\"#2169#back#293\"{Zygote.var\"#291#292\"{Tuple{Tuple{Nothing}, Tuple{}}, Zygote.var\"#combine_styles_pullback#1166\"{Tuple{Nothing, Nothing}}}}, Zygote.Pullback{Tuple{typeof(Base.Broadcast.broadcastable), Vector{Variable{Normal{Float32}}}}, Tuple{}}, Zygote.var\"#2169#back#293\"{Zygote.var\"#291#292\"{Tuple{Tuple{Nothing, Nothing, Nothing}, Tuple{}}, Zygote.var\"#4115#back#1360\"{Zygote.var\"#∇broadcasted#1371\"{Tuple{Vector{Variable{Normal{Float32}}}}, Vector{Tuple{Float32, Zygote.Pullback{Tuple{typeof(mean), Variable{Normal{Float32}}}, Tuple{Zygote.var\"#2180#back#303\"{Zygote.var\"#back#302\"{:d, Zygote.Context{false}, Variable{Normal{Float32}}, Normal{Float32}}}, Zygote.Pullback{Tuple{typeof(mean), Normal{Float32}}, Tuple{Zygote.var\"#2180#back#303\"{Zygote.var\"#back#302\"{:m, Zygote.Context{false}, Normal{Float32}, Float32}}}}}}}}, Val{2}}}}}, Zygote.var\"#2845#back#673\"{Zygote.var\"#map_back#667\"{typeof(Base.Broadcast.broadcastable), 1, Tuple{Tuple{}}, Tuple{Val{0}}, Tuple{}}}, Zygote.var\"#2013#back#204\"{typeof(identity)}}}, Zygote.var\"#1986#back#194\"{Zygote.var\"#190#193\"{Zygote.Context{false}, GlobalRef, Vector{Variable{Normal{Float32}}}}}, Zygote.Pullback{Tuple{Dense{Matrix{Variable{Normal{Float32}}}, Vector{Variable{Normal{Float32}}}}, Vector{Variable{Normal{Float32}}}}, Tuple{Zygote.var\"#2180#back#303\"{Zygote.var\"#back#302\"{:W, Zygote.Context{false}, Dense{Matrix{Variable{Normal{Float32}}}, Vector{Variable{Normal{Float32}}}}, Matrix{Variable{Normal{Float32}}}}}, Zygote.var\"#2180#back#303\"{Zygote.var\"#back#302\"{:b, Zygote.Context{false}, Dense{Matrix{Variable{Normal{Float32}}}, Vector{Variable{Normal{Float32}}}}, Vector{Variable{Normal{Float32}}}}}, Zygote.Pullback{Tuple{typeof(*), Matrix{Variable{Normal{Float32}}}, Vector{Variable{Normal{Float32}}}}, Any}, Zygote.var\"#3583#back#1084\"{Zygote.var\"#1080#1083\"}}}}})(Δ::Float32)\n",
      "    @ Zygote ~/.julia/packages/Zygote/nsBv0/src/compiler/interface2.jl:0\n",
      " [11] (::Zygote.var\"#75#76\"{Zygote.Pullback{Tuple{var\"#17#18\", Dense{Matrix{Variable{Normal{Float32}}}, Vector{Variable{Normal{Float32}}}}}, Tuple{Zygote.Pullback{Tuple{typeof(Base.Broadcast.materialize), Vector{Float32}}, Tuple{}}, Zygote.var\"#2989#back#768\"{Zygote.var\"#762#766\"{Vector{Float32}}}, Zygote.Pullback{Tuple{typeof(Base.Broadcast.broadcasted), typeof(mean), Vector{Variable{Normal{Float32}}}}, Tuple{Zygote.var\"#2013#back#204\"{typeof(identity)}, Zygote.var\"#2169#back#293\"{Zygote.var\"#291#292\"{Tuple{Tuple{Nothing}, Tuple{}}, Zygote.var\"#combine_styles_pullback#1166\"{Tuple{Nothing, Nothing}}}}, Zygote.Pullback{Tuple{typeof(Base.Broadcast.broadcastable), Vector{Variable{Normal{Float32}}}}, Tuple{}}, Zygote.var\"#2169#back#293\"{Zygote.var\"#291#292\"{Tuple{Tuple{Nothing, Nothing, Nothing}, Tuple{}}, Zygote.var\"#4115#back#1360\"{Zygote.var\"#∇broadcasted#1371\"{Tuple{Vector{Variable{Normal{Float32}}}}, Vector{Tuple{Float32, Zygote.Pullback{Tuple{typeof(mean), Variable{Normal{Float32}}}, Tuple{Zygote.var\"#2180#back#303\"{Zygote.var\"#back#302\"{:d, Zygote.Context{false}, Variable{Normal{Float32}}, Normal{Float32}}}, Zygote.Pullback{Tuple{typeof(mean), Normal{Float32}}, Tuple{Zygote.var\"#2180#back#303\"{Zygote.var\"#back#302\"{:m, Zygote.Context{false}, Normal{Float32}, Float32}}}}}}}}, Val{2}}}}}, Zygote.var\"#2845#back#673\"{Zygote.var\"#map_back#667\"{typeof(Base.Broadcast.broadcastable), 1, Tuple{Tuple{}}, Tuple{Val{0}}, Tuple{}}}, Zygote.var\"#2013#back#204\"{typeof(identity)}}}, Zygote.var\"#1986#back#194\"{Zygote.var\"#190#193\"{Zygote.Context{false}, GlobalRef, Vector{Variable{Normal{Float32}}}}}, Zygote.Pullback{Tuple{Dense{Matrix{Variable{Normal{Float32}}}, Vector{Variable{Normal{Float32}}}}, Vector{Variable{Normal{Float32}}}}, Tuple{Zygote.var\"#2180#back#303\"{Zygote.var\"#back#302\"{:W, Zygote.Context{false}, Dense{Matrix{Variable{Normal{Float32}}}, Vector{Variable{Normal{Float32}}}}, Matrix{Variable{Normal{Float32}}}}}, Zygote.var\"#2180#back#303\"{Zygote.var\"#back#302\"{:b, Zygote.Context{false}, Dense{Matrix{Variable{Normal{Float32}}}, Vector{Variable{Normal{Float32}}}}, Vector{Variable{Normal{Float32}}}}}, Zygote.Pullback{Tuple{typeof(*), Matrix{Variable{Normal{Float32}}}, Vector{Variable{Normal{Float32}}}}, Any}, Zygote.var\"#3583#back#1084\"{Zygote.var\"#1080#1083\"}}}}}})(Δ::Float32)\n",
      "    @ Zygote ~/.julia/packages/Zygote/nsBv0/src/compiler/interface.jl:91\n",
      " [12] gradient(f::Function, args::Dense{Matrix{Variable{Normal{Float32}}}, Vector{Variable{Normal{Float32}}}})\n",
      "    @ Zygote ~/.julia/packages/Zygote/nsBv0/src/compiler/interface.jl:148\n",
      " [13] top-level scope\n",
      "    @ ~/Documents/PhD/UnboundedBNN/jl_notebook_cell_df34fa98e69747e1a8f8a730347b8e2f_X45sZmlsZQ==.jl:1"
     ]
    }
   ],
   "source": [
    "dlayer = gradient(l -> sum(mean.(l(x))), layer)"
   ]
  },
  {
   "cell_type": "code",
   "execution_count": 16,
   "metadata": {},
   "outputs": [
    {
     "ename": "ErrorException",
     "evalue": "Mutating arrays is not supported -- called setindex!(StructVector{Variable{Normal{Float32}}, @NamedTuple{d::StructVector{Normal{Float32}, @NamedTuple{m::Vector{Float32}, v::Vector{Float32}}, Int64}}, Int64}, ...)\nThis error occurs when you ask Zygote to differentiate operations that change\nthe elements of arrays in place (e.g. setting values with x .= ...)\n\nPossible fixes:\n- avoid mutating operations (preferred)\n- or read the documentation and solutions for this error\n  https://fluxml.ai/Zygote.jl/latest/limitations\n",
     "output_type": "error",
     "traceback": [
      "Mutating arrays is not supported -- called setindex!(StructVector{Variable{Normal{Float32}}, @NamedTuple{d::StructVector{Normal{Float32}, @NamedTuple{m::Vector{Float32}, v::Vector{Float32}}, Int64}}, Int64}, ...)\n",
      "This error occurs when you ask Zygote to differentiate operations that change\n",
      "the elements of arrays in place (e.g. setting values with x .= ...)\n",
      "\n",
      "Possible fixes:\n",
      "- avoid mutating operations (preferred)\n",
      "- or read the documentation and solutions for this error\n",
      "  https://fluxml.ai/Zygote.jl/latest/limitations\n",
      "\n",
      "\n",
      "Stacktrace:\n",
      "  [1] error(s::String)\n",
      "    @ Base ./error.jl:35\n",
      "  [2] _throw_mutation_error(f::Function, args::StructVector{Variable{Normal{Float32}}, @NamedTuple{d::StructVector{Normal{Float32}, @NamedTuple{m::Vector{Float32}, v::Vector{Float32}}, Int64}}, Int64})\n",
      "    @ Zygote ~/.julia/packages/Zygote/nsBv0/src/lib/array.jl:70\n",
      "  [3] (::Zygote.var\"#539#540\"{StructVector{Variable{Normal{Float32}}, @NamedTuple{d::StructVector{Normal{Float32}, @NamedTuple{m::Vector{Float32}, v::Vector{Float32}}, Int64}}, Int64}})(::Nothing)\n",
      "    @ Zygote ~/.julia/packages/Zygote/nsBv0/src/lib/array.jl:82\n",
      "  [4] (::Zygote.var\"#2623#back#541\"{Zygote.var\"#539#540\"{StructVector{Variable{Normal{Float32}}, @NamedTuple{d::StructVector{Normal{Float32}, @NamedTuple{m::Vector{Float32}, v::Vector{Float32}}, Int64}}, Int64}}})(Δ::Nothing)\n",
      "    @ Zygote ~/.julia/packages/ZygoteRules/M4xmc/src/adjoint.jl:72\n",
      "  [5] _generic_matvecmul!\n",
      "    @ ~/.julia/juliaup/julia-1.10.4+0.aarch64.apple.darwin14/share/julia/stdlib/v1.10/LinearAlgebra/src/matmul.jl:752 [inlined]\n",
      "  [6] (::Zygote.Pullback{Tuple{typeof(LinearAlgebra._generic_matvecmul!), StructVector{Variable{Normal{Float32}}, @NamedTuple{d::StructVector{Normal{Float32}, @NamedTuple{m::Vector{Float32}, v::Vector{Float32}}, Int64}}, Int64}, Char, StructArray{Variable{Normal{Float32}}, 2, @NamedTuple{d::StructArray{Normal{Float32}, 2, @NamedTuple{m::Matrix{Float32}, v::Matrix{Float32}}, Int64}}, Int64}, StructVector{Variable{Normal{Float32}}, @NamedTuple{d::StructVector{Normal{Float32}, @NamedTuple{m::Vector{Float32}, v::Vector{Float32}}, Int64}}, Int64}, LinearAlgebra.MulAddMul{true, true, Bool, Bool}}, Any})(Δ::Vector{@NamedTuple{d::@NamedTuple{m::Float32, v::Nothing}}})\n",
      "    @ Zygote ~/.julia/packages/Zygote/nsBv0/src/compiler/interface2.jl:0\n",
      "  [7] generic_matvecmul!\n",
      "    @ ~/.julia/juliaup/julia-1.10.4+0.aarch64.apple.darwin14/share/julia/stdlib/v1.10/LinearAlgebra/src/matmul.jl:687 [inlined]\n",
      "  [8] mul!\n",
      "    @ ~/.julia/juliaup/julia-1.10.4+0.aarch64.apple.darwin14/share/julia/stdlib/v1.10/LinearAlgebra/src/matmul.jl:66 [inlined]\n",
      "  [9] mul!\n",
      "    @ ~/.julia/juliaup/julia-1.10.4+0.aarch64.apple.darwin14/share/julia/stdlib/v1.10/LinearAlgebra/src/matmul.jl:237 [inlined]\n",
      " [10] *\n",
      "    @ ~/.julia/juliaup/julia-1.10.4+0.aarch64.apple.darwin14/share/julia/stdlib/v1.10/LinearAlgebra/src/matmul.jl:57 [inlined]\n",
      " [11] (::Zygote.Pullback{Tuple{typeof(*), StructArray{Variable{Normal{Float32}}, 2, @NamedTuple{d::StructArray{Normal{Float32}, 2, @NamedTuple{m::Matrix{Float32}, v::Matrix{Float32}}, Int64}}, Int64}, StructVector{Variable{Normal{Float32}}, @NamedTuple{d::StructVector{Normal{Float32}, @NamedTuple{m::Vector{Float32}, v::Vector{Float32}}, Int64}}, Int64}}, Tuple{Zygote.Pullback{Tuple{typeof(mul!), StructVector{Variable{Normal{Float32}}, @NamedTuple{d::StructVector{Normal{Float32}, @NamedTuple{m::Vector{Float32}, v::Vector{Float32}}, Int64}}, Int64}, StructArray{Variable{Normal{Float32}}, 2, @NamedTuple{d::StructArray{Normal{Float32}, 2, @NamedTuple{m::Matrix{Float32}, v::Matrix{Float32}}, Int64}}, Int64}, StructVector{Variable{Normal{Float32}}, @NamedTuple{d::StructVector{Normal{Float32}, @NamedTuple{m::Vector{Float32}, v::Vector{Float32}}, Int64}}, Int64}}, Tuple{Zygote.Pullback{Tuple{typeof(mul!), StructVector{Variable{Normal{Float32}}, @NamedTuple{d::StructVector{Normal{Float32}, @NamedTuple{m::Vector{Float32}, v::Vector{Float32}}, Int64}}, Int64}, StructArray{Variable{Normal{Float32}}, 2, @NamedTuple{d::StructArray{Normal{Float32}, 2, @NamedTuple{m::Matrix{Float32}, v::Matrix{Float32}}, Int64}}, Int64}, StructVector{Variable{Normal{Float32}}, @NamedTuple{d::StructVector{Normal{Float32}, @NamedTuple{m::Vector{Float32}, v::Vector{Float32}}, Int64}}, Int64}, Bool, Bool}, Tuple{Zygote.Pullback{Tuple{Type{LinearAlgebra.MulAddMul}, Bool, Bool}, Any}, Zygote.Pullback{Tuple{typeof(LinearAlgebra.generic_matvecmul!), StructVector{Variable{Normal{Float32}}, @NamedTuple{d::StructVector{Normal{Float32}, @NamedTuple{m::Vector{Float32}, v::Vector{Float32}}, Int64}}, Int64}, Char, StructArray{Variable{Normal{Float32}}, 2, @NamedTuple{d::StructArray{Normal{Float32}, 2, @NamedTuple{m::Matrix{Float32}, v::Matrix{Float32}}, Int64}}, Int64}, StructVector{Variable{Normal{Float32}}, @NamedTuple{d::StructVector{Normal{Float32}, @NamedTuple{m::Vector{Float32}, v::Vector{Float32}}, Int64}}, Int64}, LinearAlgebra.MulAddMul{true, true, Bool, Bool}}, Any}, Zygote.Pullback{Tuple{typeof(LinearAlgebra._unwrap), StructArray{Variable{Normal{Float32}}, 2, @NamedTuple{d::StructArray{Normal{Float32}, 2, @NamedTuple{m::Matrix{Float32}, v::Matrix{Float32}}, Int64}}, Int64}}, Tuple{}}, Zygote.Pullback{Tuple{typeof(LinearAlgebra.wrapper_char), StructArray{Variable{Normal{Float32}}, 2, @NamedTuple{d::StructArray{Normal{Float32}, 2, @NamedTuple{m::Matrix{Float32}, v::Matrix{Float32}}, Int64}}, Int64}}, Tuple{}}}}}}, Zygote.ZBack{Returns{NTuple{4, NoTangent}}}, Zygote.Pullback{Tuple{typeof(Base.promote_op), typeof(LinearAlgebra.matprod), Type{Variable{Normal{Float32}}}, Type{Variable{Normal{Float32}}}}, Any}, Zygote.ZBack{Returns{Tuple{NoTangent, NoTangent, NoTangent}}}}})(Δ::Vector{@NamedTuple{d::@NamedTuple{m::Float32, v::Nothing}}})\n",
      "    @ Zygote ~/.julia/packages/Zygote/nsBv0/src/compiler/interface2.jl:0\n",
      " [12] Dense\n",
      "    @ ~/Documents/PhD/UnboundedBNN/jl_notebook_cell_df34fa98e69747e1a8f8a730347b8e2f_X36sZmlsZQ==.jl:6 [inlined]\n",
      " [13] (::Zygote.Pullback{Tuple{Dense{StructArray{Variable{Normal{Float32}}, 2, @NamedTuple{d::StructArray{Normal{Float32}, 2, @NamedTuple{m::Matrix{Float32}, v::Matrix{Float32}}, Int64}}, Int64}, StructVector{Variable{Normal{Float32}}, @NamedTuple{d::StructVector{Normal{Float32}, @NamedTuple{m::Vector{Float32}, v::Vector{Float32}}, Int64}}, Int64}}, StructVector{Variable{Normal{Float32}}, @NamedTuple{d::StructVector{Normal{Float32}, @NamedTuple{m::Vector{Float32}, v::Vector{Float32}}, Int64}}, Int64}}, Tuple{Zygote.var\"#2180#back#303\"{Zygote.var\"#back#302\"{:W, Zygote.Context{false}, Dense{StructArray{Variable{Normal{Float32}}, 2, @NamedTuple{d::StructArray{Normal{Float32}, 2, @NamedTuple{m::Matrix{Float32}, v::Matrix{Float32}}, Int64}}, Int64}, StructVector{Variable{Normal{Float32}}, @NamedTuple{d::StructVector{Normal{Float32}, @NamedTuple{m::Vector{Float32}, v::Vector{Float32}}, Int64}}, Int64}}, StructArray{Variable{Normal{Float32}}, 2, @NamedTuple{d::StructArray{Normal{Float32}, 2, @NamedTuple{m::Matrix{Float32}, v::Matrix{Float32}}, Int64}}, Int64}}}, Zygote.var\"#2180#back#303\"{Zygote.var\"#back#302\"{:b, Zygote.Context{false}, Dense{StructArray{Variable{Normal{Float32}}, 2, @NamedTuple{d::StructArray{Normal{Float32}, 2, @NamedTuple{m::Matrix{Float32}, v::Matrix{Float32}}, Int64}}, Int64}, StructVector{Variable{Normal{Float32}}, @NamedTuple{d::StructVector{Normal{Float32}, @NamedTuple{m::Vector{Float32}, v::Vector{Float32}}, Int64}}, Int64}}, StructVector{Variable{Normal{Float32}}, @NamedTuple{d::StructVector{Normal{Float32}, @NamedTuple{m::Vector{Float32}, v::Vector{Float32}}, Int64}}, Int64}}}, Zygote.Pullback{Tuple{typeof(*), StructArray{Variable{Normal{Float32}}, 2, @NamedTuple{d::StructArray{Normal{Float32}, 2, @NamedTuple{m::Matrix{Float32}, v::Matrix{Float32}}, Int64}}, Int64}, StructVector{Variable{Normal{Float32}}, @NamedTuple{d::StructVector{Normal{Float32}, @NamedTuple{m::Vector{Float32}, v::Vector{Float32}}, Int64}}, Int64}}, Tuple{Zygote.Pullback{Tuple{typeof(mul!), StructVector{Variable{Normal{Float32}}, @NamedTuple{d::StructVector{Normal{Float32}, @NamedTuple{m::Vector{Float32}, v::Vector{Float32}}, Int64}}, Int64}, StructArray{Variable{Normal{Float32}}, 2, @NamedTuple{d::StructArray{Normal{Float32}, 2, @NamedTuple{m::Matrix{Float32}, v::Matrix{Float32}}, Int64}}, Int64}, StructVector{Variable{Normal{Float32}}, @NamedTuple{d::StructVector{Normal{Float32}, @NamedTuple{m::Vector{Float32}, v::Vector{Float32}}, Int64}}, Int64}}, Tuple{Zygote.Pullback{Tuple{typeof(mul!), StructVector{Variable{Normal{Float32}}, @NamedTuple{d::StructVector{Normal{Float32}, @NamedTuple{m::Vector{Float32}, v::Vector{Float32}}, Int64}}, Int64}, StructArray{Variable{Normal{Float32}}, 2, @NamedTuple{d::StructArray{Normal{Float32}, 2, @NamedTuple{m::Matrix{Float32}, v::Matrix{Float32}}, Int64}}, Int64}, StructVector{Variable{Normal{Float32}}, @NamedTuple{d::StructVector{Normal{Float32}, @NamedTuple{m::Vector{Float32}, v::Vector{Float32}}, Int64}}, Int64}, Bool, Bool}, Tuple{Zygote.Pullback{Tuple{Type{LinearAlgebra.MulAddMul}, Bool, Bool}, Any}, Zygote.Pullback{Tuple{typeof(LinearAlgebra.generic_matvecmul!), StructVector{Variable{Normal{Float32}}, @NamedTuple{d::StructVector{Normal{Float32}, @NamedTuple{m::Vector{Float32}, v::Vector{Float32}}, Int64}}, Int64}, Char, StructArray{Variable{Normal{Float32}}, 2, @NamedTuple{d::StructArray{Normal{Float32}, 2, @NamedTuple{m::Matrix{Float32}, v::Matrix{Float32}}, Int64}}, Int64}, StructVector{Variable{Normal{Float32}}, @NamedTuple{d::StructVector{Normal{Float32}, @NamedTuple{m::Vector{Float32}, v::Vector{Float32}}, Int64}}, Int64}, LinearAlgebra.MulAddMul{true, true, Bool, Bool}}, Any}, Zygote.Pullback{Tuple{typeof(LinearAlgebra._unwrap), StructArray{Variable{Normal{Float32}}, 2, @NamedTuple{d::StructArray{Normal{Float32}, 2, @NamedTuple{m::Matrix{Float32}, v::Matrix{Float32}}, Int64}}, Int64}}, Tuple{}}, Zygote.Pullback{Tuple{typeof(LinearAlgebra.wrapper_char), StructArray{Variable{Normal{Float32}}, 2, @NamedTuple{d::StructArray{Normal{Float32}, 2, @NamedTuple{m::Matrix{Float32}, v::Matrix{Float32}}, Int64}}, Int64}}, Tuple{}}}}}}, Zygote.ZBack{Returns{NTuple{4, NoTangent}}}, Zygote.Pullback{Tuple{typeof(Base.promote_op), typeof(LinearAlgebra.matprod), Type{Variable{Normal{Float32}}}, Type{Variable{Normal{Float32}}}}, Any}, Zygote.ZBack{Returns{Tuple{NoTangent, NoTangent, NoTangent}}}}}, Zygote.var\"#3583#back#1084\"{Zygote.var\"#1080#1083\"}}})(Δ::Vector{@NamedTuple{d::@NamedTuple{m::Float32, v::Nothing}}})\n",
      "    @ Zygote ~/.julia/packages/Zygote/nsBv0/src/compiler/interface2.jl:0\n",
      " [14] #21\n",
      "    @ ~/Documents/PhD/UnboundedBNN/jl_notebook_cell_df34fa98e69747e1a8f8a730347b8e2f_X43sZmlsZQ==.jl:1 [inlined]\n",
      " [15] (::Zygote.Pullback{Tuple{var\"#21#22\", Dense{StructArray{Variable{Normal{Float32}}, 2, @NamedTuple{d::StructArray{Normal{Float32}, 2, @NamedTuple{m::Matrix{Float32}, v::Matrix{Float32}}, Int64}}, Int64}, StructVector{Variable{Normal{Float32}}, @NamedTuple{d::StructVector{Normal{Float32}, @NamedTuple{m::Vector{Float32}, v::Vector{Float32}}, Int64}}, Int64}}}, Tuple{Zygote.Pullback{Tuple{typeof(Base.Broadcast.materialize), Vector{Float32}}, Tuple{}}, Zygote.var\"#2989#back#768\"{Zygote.var\"#762#766\"{Vector{Float32}}}, Zygote.Pullback{Tuple{typeof(Base.Broadcast.broadcasted), typeof(mean), StructVector{Variable{Normal{Float32}}, @NamedTuple{d::Vector{Normal{Float32}}}, Int64}}, Tuple{Zygote.var\"#2013#back#204\"{typeof(identity)}, Zygote.var\"#2169#back#293\"{Zygote.var\"#291#292\"{Tuple{Tuple{Nothing}, Tuple{}}, Zygote.var\"#combine_styles_pullback#1166\"{Tuple{Nothing, Nothing}}}}, Zygote.Pullback{Tuple{typeof(Base.Broadcast.broadcastable), StructVector{Variable{Normal{Float32}}, @NamedTuple{d::Vector{Normal{Float32}}}, Int64}}, Tuple{}}, Zygote.var\"#2169#back#293\"{Zygote.var\"#291#292\"{Tuple{Tuple{Nothing, Nothing, Nothing}, Tuple{}}, Zygote.var\"#4115#back#1360\"{Zygote.var\"#∇broadcasted#1371\"{Tuple{StructVector{Variable{Normal{Float32}}, @NamedTuple{d::Vector{Normal{Float32}}}, Int64}}, StructVector{Tuple{Float32, Zygote.Pullback{Tuple{typeof(mean), Variable{Normal{Float32}}}, Tuple{Zygote.var\"#2180#back#303\"{Zygote.var\"#back#302\"{:d, Zygote.Context{false}, Variable{Normal{Float32}}, Normal{Float32}}}, Zygote.Pullback{Tuple{typeof(mean), Normal{Float32}}, Tuple{Zygote.var\"#2180#back#303\"{Zygote.var\"#back#302\"{:m, Zygote.Context{false}, Normal{Float32}, Float32}}}}}}}, Tuple{Vector{Float32}, Vector{Zygote.Pullback{Tuple{typeof(mean), Variable{Normal{Float32}}}, Tuple{Zygote.var\"#2180#back#303\"{Zygote.var\"#back#302\"{:d, Zygote.Context{false}, Variable{Normal{Float32}}, Normal{Float32}}}, Zygote.Pullback{Tuple{typeof(mean), Normal{Float32}}, Tuple{Zygote.var\"#2180#back#303\"{Zygote.var\"#back#302\"{:m, Zygote.Context{false}, Normal{Float32}, Float32}}}}}}}}, Int64}, Val{2}}}}}, Zygote.var\"#2845#back#673\"{Zygote.var\"#map_back#667\"{typeof(Base.Broadcast.broadcastable), 1, Tuple{Tuple{}}, Tuple{Val{0}}, Tuple{}}}, Zygote.var\"#2013#back#204\"{typeof(identity)}}}, Zygote.var\"#1986#back#194\"{Zygote.var\"#190#193\"{Zygote.Context{false}, GlobalRef, StructVector{Variable{Normal{Float32}}, @NamedTuple{d::StructVector{Normal{Float32}, @NamedTuple{m::Vector{Float32}, v::Vector{Float32}}, Int64}}, Int64}}}, Zygote.Pullback{Tuple{Dense{StructArray{Variable{Normal{Float32}}, 2, @NamedTuple{d::StructArray{Normal{Float32}, 2, @NamedTuple{m::Matrix{Float32}, v::Matrix{Float32}}, Int64}}, Int64}, StructVector{Variable{Normal{Float32}}, @NamedTuple{d::StructVector{Normal{Float32}, @NamedTuple{m::Vector{Float32}, v::Vector{Float32}}, Int64}}, Int64}}, StructVector{Variable{Normal{Float32}}, @NamedTuple{d::StructVector{Normal{Float32}, @NamedTuple{m::Vector{Float32}, v::Vector{Float32}}, Int64}}, Int64}}, Tuple{Zygote.var\"#2180#back#303\"{Zygote.var\"#back#302\"{:W, Zygote.Context{false}, Dense{StructArray{Variable{Normal{Float32}}, 2, @NamedTuple{d::StructArray{Normal{Float32}, 2, @NamedTuple{m::Matrix{Float32}, v::Matrix{Float32}}, Int64}}, Int64}, StructVector{Variable{Normal{Float32}}, @NamedTuple{d::StructVector{Normal{Float32}, @NamedTuple{m::Vector{Float32}, v::Vector{Float32}}, Int64}}, Int64}}, StructArray{Variable{Normal{Float32}}, 2, @NamedTuple{d::StructArray{Normal{Float32}, 2, @NamedTuple{m::Matrix{Float32}, v::Matrix{Float32}}, Int64}}, Int64}}}, Zygote.var\"#2180#back#303\"{Zygote.var\"#back#302\"{:b, Zygote.Context{false}, Dense{StructArray{Variable{Normal{Float32}}, 2, @NamedTuple{d::StructArray{Normal{Float32}, 2, @NamedTuple{m::Matrix{Float32}, v::Matrix{Float32}}, Int64}}, Int64}, StructVector{Variable{Normal{Float32}}, @NamedTuple{d::StructVector{Normal{Float32}, @NamedTuple{m::Vector{Float32}, v::Vector{Float32}}, Int64}}, Int64}}, StructVector{Variable{Normal{Float32}}, @NamedTuple{d::StructVector{Normal{Float32}, @NamedTuple{m::Vector{Float32}, v::Vector{Float32}}, Int64}}, Int64}}}, Zygote.Pullback{Tuple{typeof(*), StructArray{Variable{Normal{Float32}}, 2, @NamedTuple{d::StructArray{Normal{Float32}, 2, @NamedTuple{m::Matrix{Float32}, v::Matrix{Float32}}, Int64}}, Int64}, StructVector{Variable{Normal{Float32}}, @NamedTuple{d::StructVector{Normal{Float32}, @NamedTuple{m::Vector{Float32}, v::Vector{Float32}}, Int64}}, Int64}}, Tuple{Zygote.Pullback{Tuple{typeof(mul!), StructVector{Variable{Normal{Float32}}, @NamedTuple{d::StructVector{Normal{Float32}, @NamedTuple{m::Vector{Float32}, v::Vector{Float32}}, Int64}}, Int64}, StructArray{Variable{Normal{Float32}}, 2, @NamedTuple{d::StructArray{Normal{Float32}, 2, @NamedTuple{m::Matrix{Float32}, v::Matrix{Float32}}, Int64}}, Int64}, StructVector{Variable{Normal{Float32}}, @NamedTuple{d::StructVector{Normal{Float32}, @NamedTuple{m::Vector{Float32}, v::Vector{Float32}}, Int64}}, Int64}}, Tuple{Zygote.Pullback{Tuple{typeof(mul!), StructVector{Variable{Normal{Float32}}, @NamedTuple{d::StructVector{Normal{Float32}, @NamedTuple{m::Vector{Float32}, v::Vector{Float32}}, Int64}}, Int64}, StructArray{Variable{Normal{Float32}}, 2, @NamedTuple{d::StructArray{Normal{Float32}, 2, @NamedTuple{m::Matrix{Float32}, v::Matrix{Float32}}, Int64}}, Int64}, StructVector{Variable{Normal{Float32}}, @NamedTuple{d::StructVector{Normal{Float32}, @NamedTuple{m::Vector{Float32}, v::Vector{Float32}}, Int64}}, Int64}, Bool, Bool}, Tuple{Zygote.Pullback{Tuple{Type{LinearAlgebra.MulAddMul}, Bool, Bool}, Any}, Zygote.Pullback{Tuple{typeof(LinearAlgebra.generic_matvecmul!), StructVector{Variable{Normal{Float32}}, @NamedTuple{d::StructVector{Normal{Float32}, @NamedTuple{m::Vector{Float32}, v::Vector{Float32}}, Int64}}, Int64}, Char, StructArray{Variable{Normal{Float32}}, 2, @NamedTuple{d::StructArray{Normal{Float32}, 2, @NamedTuple{m::Matrix{Float32}, v::Matrix{Float32}}, Int64}}, Int64}, StructVector{Variable{Normal{Float32}}, @NamedTuple{d::StructVector{Normal{Float32}, @NamedTuple{m::Vector{Float32}, v::Vector{Float32}}, Int64}}, Int64}, LinearAlgebra.MulAddMul{true, true, Bool, Bool}}, Any}, Zygote.Pullback{Tuple{typeof(LinearAlgebra._unwrap), StructArray{Variable{Normal{Float32}}, 2, @NamedTuple{d::StructArray{Normal{Float32}, 2, @NamedTuple{m::Matrix{Float32}, v::Matrix{Float32}}, Int64}}, Int64}}, Tuple{}}, Zygote.Pullback{Tuple{typeof(LinearAlgebra.wrapper_char), StructArray{Variable{Normal{Float32}}, 2, @NamedTuple{d::StructArray{Normal{Float32}, 2, @NamedTuple{m::Matrix{Float32}, v::Matrix{Float32}}, Int64}}, Int64}}, Tuple{}}}}}}, Zygote.ZBack{Returns{NTuple{4, NoTangent}}}, Zygote.Pullback{Tuple{typeof(Base.promote_op), typeof(LinearAlgebra.matprod), Type{Variable{Normal{Float32}}}, Type{Variable{Normal{Float32}}}}, Any}, Zygote.ZBack{Returns{Tuple{NoTangent, NoTangent, NoTangent}}}}}, Zygote.var\"#3583#back#1084\"{Zygote.var\"#1080#1083\"}}}}})(Δ::Float32)\n",
      "    @ Zygote ~/.julia/packages/Zygote/nsBv0/src/compiler/interface2.jl:0\n",
      " [16] (::Zygote.var\"#75#76\"{Zygote.Pullback{Tuple{var\"#21#22\", Dense{StructArray{Variable{Normal{Float32}}, 2, @NamedTuple{d::StructArray{Normal{Float32}, 2, @NamedTuple{m::Matrix{Float32}, v::Matrix{Float32}}, Int64}}, Int64}, StructVector{Variable{Normal{Float32}}, @NamedTuple{d::StructVector{Normal{Float32}, @NamedTuple{m::Vector{Float32}, v::Vector{Float32}}, Int64}}, Int64}}}, Tuple{Zygote.Pullback{Tuple{typeof(Base.Broadcast.materialize), Vector{Float32}}, Tuple{}}, Zygote.var\"#2989#back#768\"{Zygote.var\"#762#766\"{Vector{Float32}}}, Zygote.Pullback{Tuple{typeof(Base.Broadcast.broadcasted), typeof(mean), StructVector{Variable{Normal{Float32}}, @NamedTuple{d::Vector{Normal{Float32}}}, Int64}}, Tuple{Zygote.var\"#2013#back#204\"{typeof(identity)}, Zygote.var\"#2169#back#293\"{Zygote.var\"#291#292\"{Tuple{Tuple{Nothing}, Tuple{}}, Zygote.var\"#combine_styles_pullback#1166\"{Tuple{Nothing, Nothing}}}}, Zygote.Pullback{Tuple{typeof(Base.Broadcast.broadcastable), StructVector{Variable{Normal{Float32}}, @NamedTuple{d::Vector{Normal{Float32}}}, Int64}}, Tuple{}}, Zygote.var\"#2169#back#293\"{Zygote.var\"#291#292\"{Tuple{Tuple{Nothing, Nothing, Nothing}, Tuple{}}, Zygote.var\"#4115#back#1360\"{Zygote.var\"#∇broadcasted#1371\"{Tuple{StructVector{Variable{Normal{Float32}}, @NamedTuple{d::Vector{Normal{Float32}}}, Int64}}, StructVector{Tuple{Float32, Zygote.Pullback{Tuple{typeof(mean), Variable{Normal{Float32}}}, Tuple{Zygote.var\"#2180#back#303\"{Zygote.var\"#back#302\"{:d, Zygote.Context{false}, Variable{Normal{Float32}}, Normal{Float32}}}, Zygote.Pullback{Tuple{typeof(mean), Normal{Float32}}, Tuple{Zygote.var\"#2180#back#303\"{Zygote.var\"#back#302\"{:m, Zygote.Context{false}, Normal{Float32}, Float32}}}}}}}, Tuple{Vector{Float32}, Vector{Zygote.Pullback{Tuple{typeof(mean), Variable{Normal{Float32}}}, Tuple{Zygote.var\"#2180#back#303\"{Zygote.var\"#back#302\"{:d, Zygote.Context{false}, Variable{Normal{Float32}}, Normal{Float32}}}, Zygote.Pullback{Tuple{typeof(mean), Normal{Float32}}, Tuple{Zygote.var\"#2180#back#303\"{Zygote.var\"#back#302\"{:m, Zygote.Context{false}, Normal{Float32}, Float32}}}}}}}}, Int64}, Val{2}}}}}, Zygote.var\"#2845#back#673\"{Zygote.var\"#map_back#667\"{typeof(Base.Broadcast.broadcastable), 1, Tuple{Tuple{}}, Tuple{Val{0}}, Tuple{}}}, Zygote.var\"#2013#back#204\"{typeof(identity)}}}, Zygote.var\"#1986#back#194\"{Zygote.var\"#190#193\"{Zygote.Context{false}, GlobalRef, StructVector{Variable{Normal{Float32}}, @NamedTuple{d::StructVector{Normal{Float32}, @NamedTuple{m::Vector{Float32}, v::Vector{Float32}}, Int64}}, Int64}}}, Zygote.Pullback{Tuple{Dense{StructArray{Variable{Normal{Float32}}, 2, @NamedTuple{d::StructArray{Normal{Float32}, 2, @NamedTuple{m::Matrix{Float32}, v::Matrix{Float32}}, Int64}}, Int64}, StructVector{Variable{Normal{Float32}}, @NamedTuple{d::StructVector{Normal{Float32}, @NamedTuple{m::Vector{Float32}, v::Vector{Float32}}, Int64}}, Int64}}, StructVector{Variable{Normal{Float32}}, @NamedTuple{d::StructVector{Normal{Float32}, @NamedTuple{m::Vector{Float32}, v::Vector{Float32}}, Int64}}, Int64}}, Tuple{Zygote.var\"#2180#back#303\"{Zygote.var\"#back#302\"{:W, Zygote.Context{false}, Dense{StructArray{Variable{Normal{Float32}}, 2, @NamedTuple{d::StructArray{Normal{Float32}, 2, @NamedTuple{m::Matrix{Float32}, v::Matrix{Float32}}, Int64}}, Int64}, StructVector{Variable{Normal{Float32}}, @NamedTuple{d::StructVector{Normal{Float32}, @NamedTuple{m::Vector{Float32}, v::Vector{Float32}}, Int64}}, Int64}}, StructArray{Variable{Normal{Float32}}, 2, @NamedTuple{d::StructArray{Normal{Float32}, 2, @NamedTuple{m::Matrix{Float32}, v::Matrix{Float32}}, Int64}}, Int64}}}, Zygote.var\"#2180#back#303\"{Zygote.var\"#back#302\"{:b, Zygote.Context{false}, Dense{StructArray{Variable{Normal{Float32}}, 2, @NamedTuple{d::StructArray{Normal{Float32}, 2, @NamedTuple{m::Matrix{Float32}, v::Matrix{Float32}}, Int64}}, Int64}, StructVector{Variable{Normal{Float32}}, @NamedTuple{d::StructVector{Normal{Float32}, @NamedTuple{m::Vector{Float32}, v::Vector{Float32}}, Int64}}, Int64}}, StructVector{Variable{Normal{Float32}}, @NamedTuple{d::StructVector{Normal{Float32}, @NamedTuple{m::Vector{Float32}, v::Vector{Float32}}, Int64}}, Int64}}}, Zygote.Pullback{Tuple{typeof(*), StructArray{Variable{Normal{Float32}}, 2, @NamedTuple{d::StructArray{Normal{Float32}, 2, @NamedTuple{m::Matrix{Float32}, v::Matrix{Float32}}, Int64}}, Int64}, StructVector{Variable{Normal{Float32}}, @NamedTuple{d::StructVector{Normal{Float32}, @NamedTuple{m::Vector{Float32}, v::Vector{Float32}}, Int64}}, Int64}}, Tuple{Zygote.Pullback{Tuple{typeof(mul!), StructVector{Variable{Normal{Float32}}, @NamedTuple{d::StructVector{Normal{Float32}, @NamedTuple{m::Vector{Float32}, v::Vector{Float32}}, Int64}}, Int64}, StructArray{Variable{Normal{Float32}}, 2, @NamedTuple{d::StructArray{Normal{Float32}, 2, @NamedTuple{m::Matrix{Float32}, v::Matrix{Float32}}, Int64}}, Int64}, StructVector{Variable{Normal{Float32}}, @NamedTuple{d::StructVector{Normal{Float32}, @NamedTuple{m::Vector{Float32}, v::Vector{Float32}}, Int64}}, Int64}}, Tuple{Zygote.Pullback{Tuple{typeof(mul!), StructVector{Variable{Normal{Float32}}, @NamedTuple{d::StructVector{Normal{Float32}, @NamedTuple{m::Vector{Float32}, v::Vector{Float32}}, Int64}}, Int64}, StructArray{Variable{Normal{Float32}}, 2, @NamedTuple{d::StructArray{Normal{Float32}, 2, @NamedTuple{m::Matrix{Float32}, v::Matrix{Float32}}, Int64}}, Int64}, StructVector{Variable{Normal{Float32}}, @NamedTuple{d::StructVector{Normal{Float32}, @NamedTuple{m::Vector{Float32}, v::Vector{Float32}}, Int64}}, Int64}, Bool, Bool}, Tuple{Zygote.Pullback{Tuple{Type{LinearAlgebra.MulAddMul}, Bool, Bool}, Any}, Zygote.Pullback{Tuple{typeof(LinearAlgebra.generic_matvecmul!), StructVector{Variable{Normal{Float32}}, @NamedTuple{d::StructVector{Normal{Float32}, @NamedTuple{m::Vector{Float32}, v::Vector{Float32}}, Int64}}, Int64}, Char, StructArray{Variable{Normal{Float32}}, 2, @NamedTuple{d::StructArray{Normal{Float32}, 2, @NamedTuple{m::Matrix{Float32}, v::Matrix{Float32}}, Int64}}, Int64}, StructVector{Variable{Normal{Float32}}, @NamedTuple{d::StructVector{Normal{Float32}, @NamedTuple{m::Vector{Float32}, v::Vector{Float32}}, Int64}}, Int64}, LinearAlgebra.MulAddMul{true, true, Bool, Bool}}, Any}, Zygote.Pullback{Tuple{typeof(LinearAlgebra._unwrap), StructArray{Variable{Normal{Float32}}, 2, @NamedTuple{d::StructArray{Normal{Float32}, 2, @NamedTuple{m::Matrix{Float32}, v::Matrix{Float32}}, Int64}}, Int64}}, Tuple{}}, Zygote.Pullback{Tuple{typeof(LinearAlgebra.wrapper_char), StructArray{Variable{Normal{Float32}}, 2, @NamedTuple{d::StructArray{Normal{Float32}, 2, @NamedTuple{m::Matrix{Float32}, v::Matrix{Float32}}, Int64}}, Int64}}, Tuple{}}}}}}, Zygote.ZBack{Returns{NTuple{4, NoTangent}}}, Zygote.Pullback{Tuple{typeof(Base.promote_op), typeof(LinearAlgebra.matprod), Type{Variable{Normal{Float32}}}, Type{Variable{Normal{Float32}}}}, Any}, Zygote.ZBack{Returns{Tuple{NoTangent, NoTangent, NoTangent}}}}}, Zygote.var\"#3583#back#1084\"{Zygote.var\"#1080#1083\"}}}}}})(Δ::Float32)\n",
      "    @ Zygote ~/.julia/packages/Zygote/nsBv0/src/compiler/interface.jl:91\n",
      " [17] gradient(f::Function, args::Dense{StructArray{Variable{Normal{Float32}}, 2, @NamedTuple{d::StructArray{Normal{Float32}, 2, @NamedTuple{m::Matrix{Float32}, v::Matrix{Float32}}, Int64}}, Int64}, StructVector{Variable{Normal{Float32}}, @NamedTuple{d::StructVector{Normal{Float32}, @NamedTuple{m::Vector{Float32}, v::Vector{Float32}}, Int64}}, Int64}})\n",
      "    @ Zygote ~/.julia/packages/Zygote/nsBv0/src/compiler/interface.jl:148\n",
      " [18] top-level scope\n",
      "    @ ~/Documents/PhD/UnboundedBNN/jl_notebook_cell_df34fa98e69747e1a8f8a730347b8e2f_X43sZmlsZQ==.jl:1"
     ]
    }
   ],
   "source": [
    "dlayer_sa = gradient(l -> sum(mean.(l(x_sa))), layer_sa)"
   ]
  },
  {
   "cell_type": "code",
   "execution_count": 15,
   "metadata": {},
   "outputs": [],
   "source": []
  }
 ],
 "metadata": {
  "kernelspec": {
   "display_name": "Julia 1.10.4",
   "language": "julia",
   "name": "julia-1.10"
  },
  "language_info": {
   "file_extension": ".jl",
   "mimetype": "application/julia",
   "name": "julia",
   "version": "1.10.4"
  }
 },
 "nbformat": 4,
 "nbformat_minor": 2
}
